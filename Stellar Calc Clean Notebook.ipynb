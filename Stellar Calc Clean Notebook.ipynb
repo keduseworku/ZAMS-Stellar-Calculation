{
 "cells": [
  {
   "cell_type": "code",
   "execution_count": null,
   "id": "5b22aa1f",
   "metadata": {},
   "outputs": [],
   "source": [
    "M_sun = 1.9891*(10**33) #g\n",
    "M_star = 1.2*M_sun\n",
    "X = 0.70\n",
    "Y = 0.27\n",
    "Z = 1-X-Y"
   ]
  },
  {
   "cell_type": "code",
   "execution_count": null,
   "id": "22292237",
   "metadata": {},
   "outputs": [],
   "source": [
    "#reading in the opacity table from OPAL\n",
    "import pandas as pd\n",
    "df = pd.read_excel(\"Book.xlsx\", engine='openpyxl')\n",
    "\n",
    "df.describe()"
   ]
  },
  {
   "cell_type": "code",
   "execution_count": null,
   "id": "54167741",
   "metadata": {},
   "outputs": [],
   "source": [
    "import numpy as np\n",
    "\n",
    "#numpy arrays are a bit easier to work with\n",
    "df_np = df.to_numpy()\n",
    "df_np.shape"
   ]
  },
  {
   "cell_type": "code",
   "execution_count": null,
   "id": "17594362",
   "metadata": {},
   "outputs": [],
   "source": [
    "#adding labels for the default log(R) values, the 100 is to make the dimensions even but it should be ignored/not called\n",
    "new_row = [100, -8.0, -7.5, -7.0, -6.5, -6.0, -5.5, -5.0, -4.5, -4.0, -3.5, -3.0, -2.5, -2.0, -1.5, -1.0, -0.5, 0.0, 0.5, 1.0]\n",
    "df_np = np.vstack([new_row, df_np])"
   ]
  },
  {
   "cell_type": "code",
   "execution_count": null,
   "id": "4cb4a329",
   "metadata": {},
   "outputs": [],
   "source": [
    "#converting from log(R) to log(rho) with our desired units (g cm−3)\n",
    "log_R_array = np.array(new_row)\n",
    "log_R_array = 10**(log_R_array-3)\n",
    "log_rho_array = np.log10(log_R_array)\n",
    "log_rho_array = log_rho_array[1:]\n",
    "log_rho_array"
   ]
  },
  {
   "cell_type": "code",
   "execution_count": null,
   "id": "8414f6a8",
   "metadata": {},
   "outputs": [],
   "source": [
    "log_temp_array = df_np[1:,0]\n",
    "log_temp_array"
   ]
  },
  {
   "cell_type": "code",
   "execution_count": null,
   "id": "75855299",
   "metadata": {},
   "outputs": [],
   "source": [
    "#the initial interpolation range to fill in the missing, NaN values in the table.\n",
    "interp_range = [-1.5,-1,-0.5,0,0.5,1,1.5,2,2.5,3]\n",
    "df_np[1,1:]"
   ]
  },
  {
   "cell_type": "code",
   "execution_count": null,
   "id": "ce45da91",
   "metadata": {},
   "outputs": [],
   "source": [
    "#the initial interpolation\n",
    "\n",
    "test_table = []\n",
    "for i in np.arange(1, 58):\n",
    "    #test_table.append(df_np[i,1:20])\n",
    "    PChip_test = scipy.interpolate.interp1d(log_rho_array,df_np[i,1:20], fill_value=\"extrapolate\")\n",
    "    test_table.append(np.concatenate((df_np[i,1:20],np.array(PChip_test(interp_range)))))"
   ]
  },
  {
   "cell_type": "code",
   "execution_count": null,
   "id": "7546c400",
   "metadata": {},
   "outputs": [],
   "source": [
    "#some checks to see if it looks fine\n",
    "test_table = np.array(test_table)\n",
    "test_table.shape"
   ]
  },
  {
   "cell_type": "code",
   "execution_count": null,
   "id": "6edf7152",
   "metadata": {},
   "outputs": [],
   "source": [
    "#now have a table with regularly spaced intervals for the first 61 rows\n",
    "np.savetxt('neat_opacity_table.txt',test_table)"
   ]
  },
  {
   "cell_type": "code",
   "execution_count": null,
   "id": "6189b44d",
   "metadata": {},
   "outputs": [],
   "source": [
    "negative_check = []\n",
    "for i in np.arange(61):\n",
    "    negative_check.append(test_table[i,28]-test_table[i,15])"
   ]
  },
  {
   "cell_type": "code",
   "execution_count": null,
   "id": "1a7829a3",
   "metadata": {
    "scrolled": true
   },
   "outputs": [],
   "source": [
    "#this is to check that the interpolation works correctly, since opacity values should only increasing density\n",
    "#and most easily accessible python interpolation schemes require monotonically increasing functions\n",
    "negative_check[:]"
   ]
  },
  {
   "cell_type": "code",
   "execution_count": null,
   "id": "36f4622a",
   "metadata": {},
   "outputs": [],
   "source": [
    "np.where(np.array(negative_check) < 0)"
   ]
  },
  {
   "cell_type": "code",
   "execution_count": null,
   "id": "98d4e501",
   "metadata": {},
   "outputs": [],
   "source": [
    "#some failed attempts with different interpolation schemes before ultimately arriving at interp1d from scipy\n",
    "\n",
    "#PChip_test = scipy.interpolate.PchipInterpolator(log_rho_array,df_np[10,1:])\n",
    "#PChip_test = scipy.interpolate.CubicSpline(log_rho_array,df_np[10,1:])\n",
    "#PChip_test = scipy.interpolate.Akima1DInterpolator(log_rho_array,df_np[10,1:])\n",
    "PChip_test = scipy.interpolate.interp1d(log_rho_array,df_np[10,1:], fill_value=\"extrapolate\")\n",
    "PChip_test(interp_range)"
   ]
  },
  {
   "cell_type": "code",
   "execution_count": null,
   "id": "873a2531",
   "metadata": {},
   "outputs": [],
   "source": [
    "#now manually doing the last few rows with NAN values for higher densities. These are manually done because \n",
    "#I found it much faster than trying to automate for inconsistent dimensions\n",
    "\n",
    "#this corresponds to log(T) = 7.2\n",
    "interp_range = [-2,-1.5,-1,-0.5,0,0.5,1,1.5,2,2.5,3]\n",
    "PChip_test_manual_1 = scipy.interpolate.interp1d(log_rho_array[:-1],df_np[58,1:-1], fill_value=\"extrapolate\")\n",
    "test_table = np.vstack((test_table,(np.concatenate((df_np[58,1:-1],np.array(PChip_test_manual_1(interp_range)))))))"
   ]
  },
  {
   "cell_type": "code",
   "execution_count": null,
   "id": "c2079f58",
   "metadata": {},
   "outputs": [],
   "source": [
    "test_table.shape"
   ]
  },
  {
   "cell_type": "code",
   "execution_count": null,
   "id": "8eed3346",
   "metadata": {},
   "outputs": [],
   "source": [
    "#corresponds to log(T) = 7.3\n",
    "interp_range = [-2.5,-2,-1.5,-1,-0.5,0,0.5,1,1.5,2,2.5,3]\n",
    "PChip_test_manual_2 = scipy.interpolate.interp1d(log_rho_array[:-2],df_np[59,1:-2], fill_value=\"extrapolate\")\n",
    "test_table = np.vstack((test_table,(np.concatenate((df_np[59,1:-2],np.array(PChip_test_manual_2(interp_range)))))))"
   ]
  },
  {
   "cell_type": "code",
   "execution_count": null,
   "id": "30d97a77",
   "metadata": {},
   "outputs": [],
   "source": [
    "#corresponds to log(T) = 7.4\n",
    "interp_range = [-2.5,-2,-1.5,-1,-0.5,0,0.5,1,1.5,2,2.5,3]\n",
    "PChip_test_manual_3 = scipy.interpolate.interp1d(log_rho_array[:-2],df_np[60,1:-2], fill_value=\"extrapolate\")\n",
    "test_table = np.vstack((test_table,(np.concatenate((df_np[60,1:-2],np.array(PChip_test_manual_3(interp_range)))))))"
   ]
  },
  {
   "cell_type": "code",
   "execution_count": null,
   "id": "dae547a3",
   "metadata": {},
   "outputs": [],
   "source": [
    "#corresponds to log(T) = 7.5\n",
    "interp_range = [-3, -2.5,-2,-1.5,-1,-0.5,0,0.5,1,1.5,2,2.5,3]\n",
    "PChip_test_manual_4 = scipy.interpolate.interp1d(log_rho_array[:-3],df_np[61,1:-3], fill_value=\"extrapolate\")\n",
    "test_table = np.vstack((test_table,(np.concatenate((df_np[61,1:-3],np.array(PChip_test_manual_4(interp_range)))))))"
   ]
  },
  {
   "cell_type": "code",
   "execution_count": null,
   "id": "569ccdc7",
   "metadata": {},
   "outputs": [],
   "source": [
    "interp_range_log_rho_array = [-1.5,-1,-0.5,0,0.5,1,1.5,2,2.5,3]\n",
    "interp_range_log_rho_array = np.array(interp_range_log_rho_array)\n",
    "log_rho_array = np.concatenate((log_rho_array,interp_range_log_rho_array))"
   ]
  },
  {
   "cell_type": "code",
   "execution_count": null,
   "id": "6d2339de",
   "metadata": {},
   "outputs": [],
   "source": [
    "log_temp_array = log_temp_array[0:61]\n",
    "log_temp_array.shape"
   ]
  },
  {
   "cell_type": "code",
   "execution_count": null,
   "id": "4e8d18d4",
   "metadata": {},
   "outputs": [],
   "source": [
    "#we now have updated arrays for the two axes for density and temperature, in addition to interpolated values\n",
    "#for our required range\n",
    "combined_log_temp_rho_array = []\n",
    "test_grid = scipy.interpolate.RegularGridInterpolator((log_temp_array,log_rho_array),test_table)"
   ]
  },
  {
   "cell_type": "code",
   "execution_count": null,
   "id": "29a8d5f2",
   "metadata": {},
   "outputs": [],
   "source": [
    "def kappa(T,rho):\n",
    "    #T needs to be in K and rho needs to be in g*cm^-3\n",
    "    #works in the required interval of [3.75<log10(T/K)<7.5] and [−9<log10(ρ/g*cm^−3)<3]\n",
    "    logT = np.log10(T)\n",
    "    logrho = np.log10(rho)\n",
    "    return test_grid(logT,logrho)"
   ]
  },
  {
   "cell_type": "markdown",
   "id": "9a92a538",
   "metadata": {},
   "source": [
    "## Everything above this cell is from interpolating the opacity tables"
   ]
  },
  {
   "cell_type": "code",
   "execution_count": null,
   "id": "6d2a7934",
   "metadata": {},
   "outputs": [],
   "source": [
    "#cell of constants\n",
    "\n",
    "#stefan_boltzmann constant in cgs units\n",
    "sb_constant = 5.670374419*10**-5\n",
    "c = 2.998*10**10  #cm/s\n",
    "a = 4*sb_constant/c\n",
    "G = 6.67430*10**-8"
   ]
  },
  {
   "cell_type": "code",
   "execution_count": null,
   "id": "365e2559",
   "metadata": {},
   "outputs": [],
   "source": [
    "#function of pp-chains energy generation in units of erg/g/s\n",
    "#inputs have unit requirements. rho must be in g/cm**3, T must be in K\n",
    "def epsilon_pp(rho,T,X):\n",
    "    return (2.4*10**6)*(X**2)*rho*((T/10**6)**(-2/3))*np.exp(-33.8/(T/10**6)**(1/3))"
   ]
  },
  {
   "cell_type": "code",
   "execution_count": null,
   "id": "0848bb3f",
   "metadata": {},
   "outputs": [],
   "source": [
    "def epsilon_CNO(rho,T,X,Y):\n",
    "    Z = 1-X-Y\n",
    "    X_CNO = Z/2\n",
    "    return (8.7*10**27)*X*X_CNO*rho*((T/10**6)**(-2/3))*np.exp(-152/(T/10**6)**(1/3))"
   ]
  },
  {
   "cell_type": "code",
   "execution_count": null,
   "id": "8028df6f",
   "metadata": {},
   "outputs": [],
   "source": [
    "def rho(P,T,X):\n",
    "    #stefan_boltzmann constant in cgs units\n",
    "    sb_constant = 5.670374419*10**-5\n",
    "    c = 2.998*10**10  #cm/s\n",
    "    a = 4*sb_constant/c\n",
    "    \n",
    "    P_rad = (1/3)*a*T**4\n",
    "    P_gas = P-P_rad\n",
    "    #if something weird happens while converging\n",
    "    if P_gas <= 0 or T<=0:\n",
    "        P_gas = P\n",
    "        print('eh youre getting some negative values for P_gas or T')\n",
    "    \n",
    "    mu = 4/(3+5*X)\n",
    "    m_H = 1.6738*10**-24  #in grams\n",
    "    k_B = 1.380649*10**-16  #in cgs units\n",
    "    \n",
    "    return (P_gas*mu*m_H)/(k_B*T)"
   ]
  },
  {
   "cell_type": "code",
   "execution_count": null,
   "id": "50a2b117",
   "metadata": {},
   "outputs": [],
   "source": [
    "def dMdr(r,M):\n",
    "    a = r*2\n",
    "    rho = M/(r+a)**2\n",
    "    return 4*np.pi*rho*r**2\n",
    "\n",
    "\n",
    "def rho_sample_1(r,M):\n",
    "    G = 6.67430*10**-8\n",
    "    return M/(r)**2\n",
    "\n",
    "#dMdr(r,rho_sample_1(r,M)) where M=1.2 and we wanna leave r as r"
   ]
  },
  {
   "cell_type": "code",
   "execution_count": null,
   "id": "076b5f8c",
   "metadata": {},
   "outputs": [],
   "source": [
    "#remember, load is in the form [L,P,R,T]\n",
    "def dLdM(M,L):\n",
    "    X = 0.7\n",
    "    P = current_parameters[1]\n",
    "    T = current_parameters[3]\n",
    "    return (epsilon_pp(rho(P,T,X),T,X) + epsilon_CNO(rho(P,T,X),T,X,Y))"
   ]
  },
  {
   "cell_type": "code",
   "execution_count": null,
   "id": "ae86d652",
   "metadata": {},
   "outputs": [],
   "source": [
    "def dPdM(M,P):\n",
    "    R = current_parameters[2]\n",
    "    return (-G*M)/(4*np.pi*R**4)"
   ]
  },
  {
   "cell_type": "code",
   "execution_count": null,
   "id": "45d67b0e",
   "metadata": {},
   "outputs": [],
   "source": [
    "def dRdM(M,R):\n",
    "    X = 0.7\n",
    "    P = current_parameters[1]\n",
    "    T = current_parameters[3]\n",
    "    rh = rho(P,T,X)\n",
    "    return 1/(4*np.pi*rh*R**2)"
   ]
  },
  {
   "cell_type": "code",
   "execution_count": null,
   "id": "9fd874d1",
   "metadata": {},
   "outputs": [],
   "source": [
    "#dlnPdlnT(P,P_previous,T,T_previous)\n",
    "def dTdM(M,T):\n",
    "    R = current_parameters[2]\n",
    "    P = current_parameters[1]\n",
    "    T = current_parameters[3]\n",
    "    \n",
    "    P_prev = previous_parameters[1]\n",
    "    T_prev = previous_parameters[3]\n",
    "    \n",
    "    temp_grad = dlnPdlnT(P,P_prev,T,T_prev)\n",
    "    \n",
    "    return -G*M*temp_grad*T*(2/5)/(4*np.pi*P*R**4)"
   ]
  },
  {
   "cell_type": "code",
   "execution_count": null,
   "id": "05279ca8",
   "metadata": {},
   "outputs": [],
   "source": [
    "#will use this for the first inwards shell\n",
    "def dTdM_s(M,T):\n",
    "    P = load2[1]\n",
    "    R = load2[2]\n",
    "    return -G*M*T*(2/5)/(4*np.pi*P*R**4)"
   ]
  },
  {
   "cell_type": "code",
   "execution_count": null,
   "id": "af79334f",
   "metadata": {},
   "outputs": [],
   "source": [
    "def dTdM_core_rad(M,T):\n",
    "    P = previous_parameters_out[1]\n",
    "    R = previous_parameters_out[2]\n",
    "    return -G*M*T*(adiabatic_grad())/(4*np.pi*P*R**4)"
   ]
  },
  {
   "cell_type": "code",
   "execution_count": null,
   "id": "a5d4fef0",
   "metadata": {},
   "outputs": [],
   "source": [
    "def derivs(M,L,P,R,T):\n",
    "    derivs_array[0] = dLdM(M,L)\n",
    "    derivs_array[1] = dPdM(M,P)\n",
    "    derivs_array[2] = dRdM(M,R)\n",
    "    derivs_array[3] = dTdM(M,T)\n",
    "    return derivs_array"
   ]
  },
  {
   "cell_type": "code",
   "execution_count": null,
   "id": "f3a0f046",
   "metadata": {},
   "outputs": [],
   "source": [
    "yet_another_test = []\n",
    "for i in [1,2,3,4]:\n",
    "    derivs()\n",
    "    inwards_sol = scipy.integrate.solve_ivp(derivs[i],[1,M_sun],load1)\n",
    "    yet_another_test.append(inwards_sol)"
   ]
  },
  {
   "cell_type": "code",
   "execution_count": null,
   "id": "eaa01be9",
   "metadata": {},
   "outputs": [],
   "source": [
    "inwards_sol_L = scipy.integrate.solve_ivp(dLdM_s,(M_star,M_sun),[load2[0]], t_eval = [M_sun])\n",
    "inwards_sol_P = scipy.integrate.solve_ivp(dPdM_s,(M_star,M_sun),[load2[1]], t_eval = [M_sun])\n",
    "inwards_sol_R = scipy.integrate.solve_ivp(dRdM_s,(M_star,M_sun),[load2[2]], t_eval = [M_sun])\n",
    "#inwards_sol_T = scipy.integrate.solve_ivp(dTdM_s,(M_star,M_sun),[load2[3]], t_eval = [M_sun])"
   ]
  },
  {
   "cell_type": "code",
   "execution_count": null,
   "id": "948da6ae",
   "metadata": {},
   "outputs": [],
   "source": [
    "outwards_sol_L = scipy.integrate.solve_ivp(dLdM_c,(1,M_sun),[load1[0]], t_eval = [M_sun])\n",
    "outwards_sol_P = scipy.integrate.solve_ivp(dPdM_c,(1,M_sun),[load1[1]], t_eval = [M_sun])\n",
    "outwards_sol_R = scipy.integrate.solve_ivp(dRdM_c,(1,M_sun),[load1[2]], t_eval = [M_sun])\n",
    "#outwards_sol_T = scipy.integrate.solve_ivp(dTdM_c,(1,M_sun),[load1[3]], t_eval = [M_sun])"
   ]
  },
  {
   "cell_type": "code",
   "execution_count": null,
   "id": "733ad425",
   "metadata": {},
   "outputs": [],
   "source": [
    "inwards_parameter_update = [inwards_sol_L.y, inwards_sol_P.y, inwards_sol_R.y]\n",
    "inwards_parameter_update = np.array(inwards_parameter_update)\n",
    "\n",
    "outwards_parameter_update = [outwards_sol_L.y, outwards_sol_P.y, outwards_sol_R.y]\n",
    "outwards_parameter_update = np.array(outwards_parameter_update)\n",
    "\n",
    "difference_array = inwards_parameter_update - outwards_parameter_update\n",
    "difference_array"
   ]
  },
  {
   "cell_type": "code",
   "execution_count": null,
   "id": "b75df60d",
   "metadata": {},
   "outputs": [],
   "source": [
    "inwards_parameter_update"
   ]
  },
  {
   "cell_type": "code",
   "execution_count": null,
   "id": "7e1b5387",
   "metadata": {},
   "outputs": [],
   "source": [
    "outwards_parameter_update.shape"
   ]
  },
  {
   "cell_type": "code",
   "execution_count": null,
   "id": "6121d497",
   "metadata": {},
   "outputs": [],
   "source": [
    "#make a print statement for each iteration so that I can see the time it takes per iteration\n",
    "\n",
    "#figuring out step size for initial value adjustment. Want to set it to go both negative and positive\n",
    "#if load1[0]-prev_load1[0]\n",
    "\n",
    "if (difference_array[0] - prev_difference_array[0]) > 0:\n",
    "    x == -1\n",
    "if (difference_array[0] - prev_difference_array[0]) <= 0:\n",
    "    x == x\n",
    "load1[0] = prev_load1[0] + x*prev_load1[0]*0.01\n",
    "\n",
    "iteration_count.append(iteration_count + 1)\n",
    "\n",
    "#my condition for stopping? \n",
    "if difference_array[0] < 1000 or difference_array[1] < 1000 or difference_array[2] < 1000:\n",
    "    break\n",
    "    \n",
    "    \n",
    "#load1[0] = load1[0] + (0.01*load1[0])\n",
    "\n",
    "#load1[0] = outwards_parameter_update[0]\n",
    "#load2[0] ="
   ]
  },
  {
   "cell_type": "code",
   "execution_count": null,
   "id": "e387d1db",
   "metadata": {
    "scrolled": true
   },
   "outputs": [],
   "source": [
    "iteration_count = 0\n",
    "for i in np.linspace(1,100,100):\n",
    "    prev_load1 = load1\n",
    "    prev_load2 = load2\n",
    "    prev_difference_array = difference_array\n",
    "    \n",
    "    inwards_sol_L = scipy.integrate.solve_ivp(dLdM_s,(M_star,M_sun),[load2[0]], t_eval = [M_sun])\n",
    "    inwards_sol_P = scipy.integrate.solve_ivp(dPdM_s,(M_star,M_sun),[load2[1]], t_eval = [M_sun])\n",
    "    inwards_sol_R = scipy.integrate.solve_ivp(dRdM_s,(M_star,M_sun),[load2[2]], t_eval = [M_sun])\n",
    "\n",
    "    outwards_sol_L = scipy.integrate.solve_ivp(dLdM_c,(1,M_sun),[load1[0]], t_eval = [M_sun])\n",
    "    outwards_sol_P = scipy.integrate.solve_ivp(dPdM_c,(1,M_sun),[load1[1]], t_eval = [M_sun])\n",
    "    outwards_sol_R = scipy.integrate.solve_ivp(dRdM_c,(1,M_sun),[load1[2]], t_eval = [M_sun])\n",
    "\n",
    "    #these are the updated results for L(x_f), P(x_f), and R(x_f) integrating from the surface inwards\n",
    "    inwards_parameter_update = [inwards_sol_L.y, inwards_sol_P.y, inwards_sol_R.y]\n",
    "    inwards_parameter_update = np.array(inwards_parameter_update)\n",
    "\n",
    "    #these are the updated results for L(x_f), P(x_f), and R(x_f) integrating from the core outwards\n",
    "    outwards_parameter_update = [outwards_sol_L.y, outwards_sol_P.y, outwards_sol_R.y]\n",
    "    outwards_parameter_update = np.array(outwards_parameter_update)\n",
    "\n",
    "    #how close to converging are my integrations from both ends?\n",
    "    difference_array = abs(inwards_parameter_update - outwards_parameter_update)\n",
    "\n",
    "    \n",
    "    #moving in the incorrect direction, let's change the sign\n",
    "    if (difference_array[1] - prev_difference_array[1]) > 0:\n",
    "        x = -1\n",
    "    if (difference_array[1] - prev_difference_array[1]) <= 0:\n",
    "        x = x\n",
    "    #new guess for P_c\n",
    "    load1[1] = prev_load1[1] + x*prev_load1[1]*0.001\n",
    "    \n",
    "    \n",
    "    #moving in the incorrect direction, let's change the sign\n",
    "    if (difference_array[0] - prev_difference_array[0]) > 0:\n",
    "        y = -1\n",
    "    if (difference_array[0] - prev_difference_array[0]) <= 0:\n",
    "        y = y\n",
    "    #new guess for L_s\n",
    "    load2[0] = prev_load2[0] + y*prev_load2[0]*0.001\n",
    "    \n",
    "    \n",
    "    #moving in the incorrect direction, let's change the sign\n",
    "    if (difference_array[2] - prev_difference_array[2]) > 0:\n",
    "        z = -1\n",
    "    if (difference_array[2] - prev_difference_array[2]) <= 0:\n",
    "        z = z\n",
    "    #new guess for R_s\n",
    "    load2[2] = prev_load2[2] + z*prev_load2[2]*0.001\n",
    "    \n",
    "    iteration_count = i\n",
    "    print(iteration_count)\n",
    "    \n",
    "#iteration_count.append(iteration_count + 1)\n",
    "\n",
    "#my condition for stopping? \n",
    "    #if difference_array[0] < 10 or difference_array[1] < 10 or difference_array[2] < 10:\n",
    "        #break\n",
    "   "
   ]
  },
  {
   "cell_type": "code",
   "execution_count": null,
   "id": "d616782e",
   "metadata": {},
   "outputs": [],
   "source": [
    "def adiabatic_grad():\n",
    "    #stefan_boltzmann constant in cgs units\n",
    "    sb_constant = 5.670374419*10**-5\n",
    "    c = 2.998*10**10  #cm/s\n",
    "    a = 4*sb_constant/c\n",
    "    \n",
    "    M = M_prev\n",
    "    L = previous_parameters_out[0]\n",
    "    T = previous_parameters_out[3]\n",
    "    P = previous_parameters_out[1]\n",
    "    rh = rho(P,T,0.7)\n",
    "    k = kappa(T,rh)\n",
    "    \n",
    "    return (3/(16*np.pi*a*c))*((P*k*L)/(G*M*T**4))"
   ]
  },
  {
   "cell_type": "code",
   "execution_count": null,
   "id": "eec49b56",
   "metadata": {},
   "outputs": [],
   "source": [
    "#load1 corresponds to core initial values in the form [L,P,r,T]\n",
    "load1 = [0.0001,1.897e17,0.0001,16.67e6]\n",
    "#load2 is the same but for surface initial values with L in erg/s\n",
    "load2 = [8.4156*10**33,0.0001,8.627*10**10,0.0001]\n",
    "sample_test_2_solutions = scipy.integrate.solve_ivp(dLdM,[0.1,1.2],load_test_1, t_eval = [0.1,0.5,1.2])"
   ]
  },
  {
   "cell_type": "code",
   "execution_count": null,
   "id": "4e2b2d9b",
   "metadata": {},
   "outputs": [],
   "source": [
    "load_test = np.split(load1,[0])\n",
    "load_test[1]"
   ]
  },
  {
   "cell_type": "code",
   "execution_count": null,
   "id": "df229066",
   "metadata": {},
   "outputs": [],
   "source": [
    "dLdM(load1[1],load1[3],0.7)"
   ]
  },
  {
   "cell_type": "code",
   "execution_count": null,
   "id": "2d492cdb",
   "metadata": {},
   "outputs": [],
   "source": [
    "sample_test_2_solutions"
   ]
  },
  {
   "cell_type": "code",
   "execution_count": null,
   "id": "ea921670",
   "metadata": {},
   "outputs": [],
   "source": [
    "surface_bc_T_P = []\n",
    "def surface_boundry_conditions_temp_pressure(M,L,R):\n",
    "    P = (2*G*M)/(3*R**2)\n",
    "    T = (L/(4*np.pi*sb_constant*R**2))**(0.25)\n",
    "    return np.array([P,T])\n",
    "\n",
    "#the idea is that you use L and R initial guesses from load2 as arguments, and you update load2 values for P and T"
   ]
  },
  {
   "cell_type": "code",
   "execution_count": null,
   "id": "727f4830",
   "metadata": {},
   "outputs": [],
   "source": [
    "#honestly, I think my initial luminosity guess was wrong so updating it here to stellar lum as a place to start\n",
    "load2[0] = 2e35\n",
    "\n",
    "surf_bc = surface_boundry_conditions_temp_pressure(M_star,load2[0],load2[2])\n",
    "#update surface Pressure\n",
    "load2[1] = surf_bc[0]\n",
    "#update surface Temp\n",
    "load2[3] = surf_bc[1]\n",
    "\n",
    "#remember, load is in the form [L,P,R,T]"
   ]
  },
  {
   "cell_type": "code",
   "execution_count": null,
   "id": "547d628d",
   "metadata": {},
   "outputs": [],
   "source": [
    "def dlnPdlnT(P,P_previous,T,T_previous):\n",
    "    if P_previous < 0:\n",
    "        print('P_prev below zero')\n",
    "    if P < 0:\n",
    "        print('P below zero')\n",
    "    if T_previous < 0:\n",
    "        print('T_prev below zero')\n",
    "    if T < 0:\n",
    "        print('T below zero')\n",
    "        \n",
    "    if (T_previous-T) == 0:\n",
    "        print('T_previous-T is zero')\n",
    "        \n",
    "    if (P_previous+P) < 0:\n",
    "        print('P_previous+P below zero')\n",
    "    \n",
    "    return ((P_previous-P)/(T_previous-T))*((T_previous+T)/(P_previous+P))"
   ]
  },
  {
   "cell_type": "code",
   "execution_count": null,
   "id": "eda6d003",
   "metadata": {},
   "outputs": [],
   "source": [
    "#og\n",
    "#dlnPdlnT(P,P_previous,T,T_previous)\n",
    "def dTdM(M,T):\n",
    "    R = current_parameters[2]\n",
    "    P = current_parameters[1]\n",
    "    T = current_parameters[3]\n",
    "    \n",
    "    P_prev = previous_parameters[1]\n",
    "    T_prev = previous_parameters[3]\n",
    "    \n",
    "    temp_grad = dlnPdlnT(P,P_prev,T,T_prev)\n",
    "    \n",
    "    return -G*M*temp_grad*T*(2/5)/(4*np.pi*P*R**4)"
   ]
  },
  {
   "cell_type": "code",
   "execution_count": null,
   "id": "9172ee98",
   "metadata": {},
   "outputs": [],
   "source": [
    "load2\n",
    "previous_parameters = load2\n",
    "previous_parameters"
   ]
  },
  {
   "cell_type": "code",
   "execution_count": null,
   "id": "46f264b5",
   "metadata": {},
   "outputs": [],
   "source": [
    "#let me set up a few rounds of integration but for all 4 functions, since we need the parameter values for inputs\n",
    "dM = -M_star / 100\n",
    "total_steps = -M_star/dM\n",
    "\n",
    "previous_parameters = load2\n",
    "#just for the first inward shell, set current = previous\n",
    "current_parameters = previous_parameters\n",
    "M_prev = M_star\n",
    "\n",
    "first_shell_in_L = scipy.integrate.solve_ivp(dLdM,(M_prev,M_prev + dM),[previous_parameters[0]], t_eval = [M_prev + dM])\n",
    "first_shell_in_P = scipy.integrate.solve_ivp(dPdM,(M_prev,M_prev + dM),[previous_parameters[1]], t_eval = [M_prev + dM])\n",
    "first_shell_in_R = scipy.integrate.solve_ivp(dRdM_s,(M_prev,M_prev + dM),[previous_parameters[2]], t_eval = [M_prev + dM])\n",
    "first_shell_in_T = scipy.integrate.solve_ivp(dTdM_s,(M_prev,M_prev + dM),[previous_parameters[3]], t_eval = [M_prev + dM])\n",
    "\n",
    "current_parameters = [first_shell_in_L.y, first_shell_in_P.y, first_shell_in_R.y, first_shell_in_T.y]\n",
    "current_parameters = np.array(current_parameters)\n",
    "\n",
    "M_prev = M_prev + dM\n",
    "\n",
    "parameters_table_1 = []\n",
    "print(first_shell_in_L.t, first_shell_in_P.t, first_shell_in_R.t, first_shell_in_T.t)\n",
    "print(current_parameters[3]-previous_parameters[3])"
   ]
  },
  {
   "cell_type": "code",
   "execution_count": null,
   "id": "a667db1d",
   "metadata": {},
   "outputs": [],
   "source": [
    "checking_masses_array = []\n",
    "for i in np.linspace(1,100,100):\n",
    "    \n",
    "    inwards_sol_L_test1 = scipy.integrate.solve_ivp(dLdM,(M_prev,M_prev + dM),current_parameters[0,0], t_eval = [M_prev + dM])\n",
    "    inwards_sol_P_test1 = scipy.integrate.solve_ivp(dPdM,(M_prev,M_prev + dM),current_parameters[1,0], t_eval = [M_prev + dM])\n",
    "    inwards_sol_R_test1 = scipy.integrate.solve_ivp(dRdM_s,(M_prev,M_prev + dM),current_parameters[2,0], t_eval = [M_prev + dM])\n",
    "    inwards_sol_T_test1 = scipy.integrate.solve_ivp(dTdM,(M_prev,M_prev + dM),current_parameters[3,0], t_eval = [M_prev + dM])\n",
    "    \n",
    "    previous_parameters = current_parameters.copy()\n",
    "    \n",
    "    L_est = previous_parameters[0] + dLdM(M_prev,previous_parameters[0])*dM\n",
    "    P_est = previous_parameters[1] + dPdM(M_prev,previous_parameters[1])*dM\n",
    "    R_est = previous_parameters[2] + dRdM(M_prev,previous_parameters[2])*dM\n",
    "    T_est = previous_parameters[3] + dTdM(M_prev,previous_parameters[3])*dM\n",
    "    \n",
    "    \n",
    "    #if abs((L_est-inwards_sol_L_test1.y)/L_est) > 0.001:\n",
    "    if i>4:\n",
    "        current_parameters[0] = L_est\n",
    "    else:\n",
    "        current_parameters[0] = inwards_sol_L_test1.y\n",
    "        \n",
    "        \n",
    "    #if abs((P_est-inwards_sol_P_test1.y)/P_est) > 0.001:\n",
    "    if i>4:\n",
    "        current_parameters[1] = P_est\n",
    "    else:\n",
    "        current_parameters[1] = inwards_sol_P_test1.y\n",
    "        \n",
    "        \n",
    "    #if abs((R_est-inwards_sol_R_test1.y)/R_est) > 0.001:\n",
    "    if i>4:\n",
    "        current_parameters[2] = R_est\n",
    "    else:\n",
    "        current_parameters[2] = inwards_sol_R_test1.y\n",
    "        \n",
    "        \n",
    "    #if ((T_est-inwards_sol_T_test1.y)/T_est) > 0.01:\n",
    "    if i>4:\n",
    "        current_parameters[3] = T_est\n",
    "    else:\n",
    "        current_parameters[3] = inwards_sol_T_test1.y\n",
    "        \n",
    "    #current_parameters = [inwards_sol_L_test1.y, inwards_sol_P_test1.y, inwards_sol_R_test1.y, inwards_sol_T_test1.y]\n",
    "    #just trying shit at this point\n",
    "    current_parameters = [L_est,P_est,R_est,T_est]\n",
    "    current_parameters = np.array(current_parameters)\n",
    "    M_prev = M_prev + dM\n",
    "    \n",
    "    \n",
    "    \n",
    "    parameters_table_1.append(current_parameters)\n",
    "    checking_masses_array.append(inwards_sol_L_test1.t)\n",
    "    \n",
    "    print(i)"
   ]
  },
  {
   "cell_type": "code",
   "execution_count": null,
   "id": "26f017a8",
   "metadata": {},
   "outputs": [],
   "source": [
    "T_est = previous_parameters[3] + dTdM(M_prev,previous_parameters[3])*dM\n",
    "print(dTdM(M_prev,previous_parameters[3])*dM)"
   ]
  },
  {
   "cell_type": "code",
   "execution_count": null,
   "id": "31343c9b",
   "metadata": {},
   "outputs": [],
   "source": [
    "#let me set up a few rounds of integration but for all 4 functions, since we need the parameter values for inputs\n",
    "dM_out = (0.8*M_sun)/ 100\n",
    "#total_steps = M_star/dM\n",
    "\n",
    "previous_parameters_out = load1\n",
    "#just for the first inward shell, set current = previous\n",
    "current_parameters_out = previous_parameters_out\n",
    "M_prev = 1\n",
    "\n",
    "#first_shell_out_L = scipy.integrate.solve_ivp(dLdM,(M_prev,M_prev + dM),[previous_parameters_out[0]], t_eval = [M_prev + dM])\n",
    "#first_shell_out_P = scipy.integrate.solve_ivp(dPdM,(M_prev,M_prev + dM),[previous_parameters_out[1]], t_eval = [M_prev + dM])\n",
    "#first_shell_out_R = scipy.integrate.solve_ivp(dRdM_s,(M_prev,M_prev + dM),[previous_parameters_out[2]], t_eval = [M_prev + dM])\n",
    "first_shell_out_T = scipy.integrate.solve_ivp(dTdM_core_rad,(M_prev,M_prev + dM),[previous_parameters_out[3]], t_eval = [M_prev + dM])\n",
    "\n",
    "current_parameters_out = [first_shell_out_L.y, first_shell_out_P.y, first_shell_out_R.y, first_shell_out_T.y]\n",
    "current_parameters_out = np.array(current_parameters_out)\n",
    "\n",
    "M_prev = M_prev + dM_out\n",
    "\n",
    "parameters_table_1 = []\n",
    "print(first_shell_out_L.t, first_shell_out_P.t, first_shell_out_R.t, first_shell_out_T.t)"
   ]
  },
  {
   "cell_type": "code",
   "execution_count": null,
   "id": "a120e8d2",
   "metadata": {},
   "outputs": [],
   "source": [
    "#in the form [L,P,R,T]\n",
    "load1"
   ]
  },
  {
   "cell_type": "code",
   "execution_count": null,
   "id": "be784cce",
   "metadata": {},
   "outputs": [],
   "source": [
    "checking_masses_array = []\n",
    "for i in np.linspace(1,100,100):\n",
    "    \n",
    "    inwards_sol_L_test1 = scipy.integrate.solve_ivp(dLdM,(M_prev,M_prev + dM),current_parameters[0,0], t_eval = [M_prev + dM])\n",
    "    inwards_sol_P_test1 = scipy.integrate.solve_ivp(dPdM,(M_prev,M_prev + dM),current_parameters[1,0], t_eval = [M_prev + dM])\n",
    "    inwards_sol_R_test1 = scipy.integrate.solve_ivp(dRdM_s,(M_prev,M_prev + dM),current_parameters[2,0], t_eval = [M_prev + dM])\n",
    "    inwards_sol_T_test1 = scipy.integrate.solve_ivp(dTdM,(M_prev,M_prev + dM),current_parameters[3,0], t_eval = [M_prev + dM])\n",
    "    \n",
    "    previous_parameters = current_parameters.copy()\n",
    "    \n",
    "    L_est = previous_parameters[0] + dLdM(M_prev,previous_parameters[0])*dM\n",
    "    P_est = previous_parameters[1] + dPdM(M_prev,previous_parameters[1])*dM\n",
    "    R_est = previous_parameters[2] + dRdM(M_prev,previous_parameters[2])*dM\n",
    "    T_est = previous_parameters[3] + dTdM(M_prev,previous_parameters[3])*dM\n",
    "    \n",
    "    \n",
    "    #if abs((L_est-inwards_sol_L_test1.y)/L_est) > 0.001:\n",
    "    if i>4:\n",
    "        current_parameters[0] = L_est\n",
    "    else:\n",
    "        current_parameters[0] = inwards_sol_L_test1.y\n",
    "        \n",
    "        \n",
    "    #if abs((P_est-inwards_sol_P_test1.y)/P_est) > 0.001:\n",
    "    if i>4:\n",
    "        current_parameters[1] = P_est\n",
    "    else:\n",
    "        current_parameters[1] = inwards_sol_P_test1.y\n",
    "        \n",
    "        \n",
    "    #if abs((R_est-inwards_sol_R_test1.y)/R_est) > 0.001:\n",
    "    if i>4:\n",
    "        current_parameters[2] = R_est\n",
    "    else:\n",
    "        current_parameters[2] = inwards_sol_R_test1.y\n",
    "        \n",
    "        \n",
    "    #if ((T_est-inwards_sol_T_test1.y)/T_est) > 0.01:\n",
    "    if i>4:\n",
    "        current_parameters[3] = T_est\n",
    "    else:\n",
    "        current_parameters[3] = inwards_sol_T_test1.y\n",
    "        \n",
    "    #current_parameters = [inwards_sol_L_test1.y, inwards_sol_P_test1.y, inwards_sol_R_test1.y, inwards_sol_T_test1.y]\n",
    "    #just trying shit at this point\n",
    "    current_parameters = [L_est,P_est,R_est,T_est]\n",
    "    current_parameters = np.array(current_parameters)\n",
    "    M_prev = M_prev + dM\n",
    "    \n",
    "    \n",
    "    \n",
    "    parameters_table_1.append(current_parameters)\n",
    "    checking_masses_array.append(inwards_sol_L_test1.t)\n",
    "    \n",
    "    print(i)"
   ]
  },
  {
   "cell_type": "markdown",
   "id": "6564c391",
   "metadata": {},
   "source": [
    "## Everything above this cell are attempts at using scipy. Below, I'm trying to do it myself"
   ]
  },
  {
   "cell_type": "markdown",
   "id": "19f61329",
   "metadata": {},
   "source": [
    " "
   ]
  },
  {
   "cell_type": "code",
   "execution_count": null,
   "id": "9d7a94eb",
   "metadata": {},
   "outputs": [],
   "source": [
    "#TABLE # 74     $G&N'93 Solar$     X=0.7000 Y=0.2700 Z=0.0300 dXc=0.0000 dXo=0.0000\n",
    "#cell of constants\n",
    "\n",
    "#stefan_boltzmann constant in cgs units\n",
    "sb_constant = 5.670374419e-5\n",
    "c = 2.998e10  #cm/s\n",
    "a = 4*sb_constant/c\n",
    "G = 6.67430e-8\n",
    "\n",
    "\n",
    "M_sun = 1.9891e33 #g\n",
    "M_star = 1.2*M_sun\n",
    "X = 0.70\n",
    "Y = 0.27\n",
    "Z = 1-X-Y"
   ]
  },
  {
   "cell_type": "code",
   "execution_count": null,
   "id": "1654511c",
   "metadata": {},
   "outputs": [],
   "source": [
    "def kappa(T,rho):\n",
    "    #T needs to be in K and rho needs to be in g*cm^-3\n",
    "    #works in the required interval of [3.75<log10(T/K)<7.5] and [−9<log10(ρ/g*cm^−3)<3]\n",
    "    logT = np.log10(T)\n",
    "    logrho = np.log10(rho)\n",
    "    return test_grid(logT,logrho)"
   ]
  },
  {
   "cell_type": "code",
   "execution_count": null,
   "id": "f14a9603",
   "metadata": {},
   "outputs": [],
   "source": [
    "#function of pp-chains energy generation in units of erg/g/s\n",
    "#inputs have unit requirements. rho must be in g/cm**3, T must be in K\n",
    "#6.76 approximation \n",
    "def epsilon_pp(rho,T,X):\n",
    "    return (2.4e4)*(X**2)*rho*((T/10**9)**(-2/3))*np.exp(-3.38/(T/10**9)**(1/3))\n",
    "\n",
    "#6.77, where CNO mass fraction is estimated to be Z/2\n",
    "def epsilon_CNO(rho,T,X,Y):\n",
    "    Z = 1-X-Y\n",
    "    return (4.4e25)*X*Z*rho*((T/10**9)**(-2/3))*np.exp(-15.228/(T/10**9)**(1/3))\n"
   ]
  },
  {
   "cell_type": "code",
   "execution_count": null,
   "id": "b6213abd",
   "metadata": {},
   "outputs": [],
   "source": [
    "def rho(P,T,X):\n",
    "    P_rad = (1/3)*a*T**4\n",
    "    P_gas = P-P_rad\n",
    "    #if something weird happens while converging\n",
    "    if P_gas <= 0 or T<=0:\n",
    "        P_gas = P\n",
    "        print('eh youre getting some negative values for P_gas or T')\n",
    "    \n",
    "    mu = 4/(3+5*X)\n",
    "    m_H = 1.6738e-24  #in grams\n",
    "    k_B = 1.380649e-16  #in cgs units\n",
    "    \n",
    "    return (P_gas*mu*m_H)/(k_B*T)"
   ]
  },
  {
   "cell_type": "code",
   "execution_count": null,
   "id": "928d41d6",
   "metadata": {},
   "outputs": [],
   "source": [
    "def dLdM(P,T):\n",
    "    X = 0.7\n",
    "    dens = rho(P,T,X)\n",
    "    return (epsilon_pp(dens,T,X) + epsilon_CNO(dens,T,X,Y))\n",
    "\n",
    "\n",
    "\n",
    "def dPdM(M,R):\n",
    "    return -(G*M)/(4*np.pi*R**4)\n",
    "\n",
    "\n",
    "\n",
    "def dRdM(P,T,R):\n",
    "    X = 0.7\n",
    "    dens = rho(P,T,X)\n",
    "    return 1/(4*np.pi*dens*R**2)\n",
    "\n",
    "\n",
    "\n",
    "def dlnPdlnT(P,P_previous,T,T_previous):\n",
    "    if P_previous < 0:\n",
    "        print('P_prev below zero')\n",
    "    if P < 0:\n",
    "        print('P below zero')\n",
    "    if T_previous < 0:\n",
    "        print('T_prev below zero')\n",
    "    if T < 0:\n",
    "        print('T below zero')\n",
    "        \n",
    "    if (T_previous-T) == 0:\n",
    "        print('T_previous-T is zero')\n",
    "        \n",
    "    if (P_previous+P) < 0:\n",
    "        print('P_previous+P below zero')\n",
    "    \n",
    "    return ((P_previous-P)/(T_previous-T))*((T_previous+T)/(P_previous+P))\n",
    "\n",
    "\n",
    "\n",
    "def dTdM(P,T,R,M,temp_grad):\n",
    "    return -G*M*temp_grad*T/(4*np.pi*P*R**4)\n",
    "\n",
    "\n",
    "def derivs(P,T,R,M,L,temp_grad):\n",
    "    dldm = dLdM(P,T)\n",
    "    dpdm = dPdM(M,R)\n",
    "    drdm = dRdM(P,T,R)\n",
    "    dtdm = dTdM(P,T,R,M,temp_grad)\n",
    "    interm = [dldm, dpdm, drdm, dtdm]\n",
    "    return np.array(interm)"
   ]
  },
  {
   "cell_type": "code",
   "execution_count": null,
   "id": "1612e343",
   "metadata": {},
   "outputs": [],
   "source": [
    "#load1 corresponds to core initial values in the form [L,P,r,T]\n",
    "load1 = [0.0001,2.68e8,0.0001,16.67e6]\n",
    "#load2 is the same but for surface initial values with L in erg/s\n",
    "load2 = [8.4156e33,0.0001,8.627e10,0.0001]\n",
    "\n",
    "\n",
    "surface_bc_T_P = []\n",
    "def surface_boundry_conditions_temp_pressure(M,L,R):\n",
    "    P = (2*G*M)/(3*R**2)\n",
    "    T = (L/(4*np.pi*sb_constant*R**2))**(0.25)\n",
    "    return np.array([P,T])\n",
    "\n",
    "#the idea is that you use L and R initial guesses from load2 as arguments, and you update load2 values for P and T"
   ]
  },
  {
   "cell_type": "code",
   "execution_count": null,
   "id": "bfa392ac",
   "metadata": {},
   "outputs": [],
   "source": [
    "surf_bc = surface_boundry_conditions_temp_pressure(M_star,load2[0],load2[2])\n",
    "#update surface Pressure\n",
    "load2[1] = surf_bc[0]\n",
    "#update surface Temp\n",
    "load2[3] = surf_bc[1]\n",
    "\n",
    "#remember, load is in the form [L,P,R,T]\n",
    "print(load2)\n",
    "stipulation = np.array(load2) - np.array(load1)\n",
    "print(stipulation)"
   ]
  },
  {
   "cell_type": "code",
   "execution_count": null,
   "id": "53fcc122",
   "metadata": {},
   "outputs": [],
   "source": [
    "table_parameters = []\n",
    "dM_in = -(M_star - 0.8*M_sun)/1000\n",
    "t_grad_ini = 2/5\n",
    "\n",
    "previous_parameters = load2\n",
    "ddm = derivs(previous_parameters[1], previous_parameters[3], previous_parameters[2], M_star, previous_parameters[0], t_grad_ini)\n",
    "\n",
    "current_parameters = previous_parameters + ddm*dM_in\n",
    "\n",
    "#if (current_parameters[0]-previous_parameters[0])/previous_parameters[0] > 0.01:\n",
    "#    current_parameters[0] = 0.01\n"
   ]
  },
  {
   "cell_type": "code",
   "execution_count": null,
   "id": "fb026bc9",
   "metadata": {},
   "outputs": [],
   "source": [
    "table_parameters = []\n",
    "dM_out = (0.8*M_sun-1)/1000\n",
    "t_grad_ini = 2/5\n",
    "\n",
    "previous_parameters = load1\n",
    "ddm = derivs(previous_parameters[1], previous_parameters[3], previous_parameters[2], M_star, previous_parameters[0], t_grad_ini)\n",
    "\n",
    "current_parameters = previous_parameters + ddm*dM_in\n",
    "\n",
    "M_current = M_star + dM_out\n",
    "\n",
    "\n",
    "table_parameters.append(current_parameters)\n",
    "#if (current_parameters[0]-previous_parameters[0])/previous_parameters[0] > 0.01:\n",
    "#    current_parameters[0] = 0.01\n",
    "\n",
    "for i in np.linspace(1,1000,1000):\n",
    "    previous_parameters = current_parameters\n",
    "    ddm = derivs(previous_parameters[1], previous_parameters[3], previous_parameters[2], M_current, previous_parameters[0], t_grad_ini)\n",
    "    current_parameters = previous_parameters + ddm*dM_out\n",
    "    table_parameters.append(current_parameters)\n",
    "    M_current = M_current + dM_out\n",
    "    print(i)"
   ]
  },
  {
   "cell_type": "code",
   "execution_count": null,
   "id": "a1d05ba2",
   "metadata": {},
   "outputs": [],
   "source": [
    "table_parameters"
   ]
  }
 ],
 "metadata": {
  "kernelspec": {
   "display_name": "Python 3 (ipykernel)",
   "language": "python",
   "name": "python3"
  },
  "language_info": {
   "codemirror_mode": {
    "name": "ipython",
    "version": 3
   },
   "file_extension": ".py",
   "mimetype": "text/x-python",
   "name": "python",
   "nbconvert_exporter": "python",
   "pygments_lexer": "ipython3",
   "version": "3.9.12"
  }
 },
 "nbformat": 4,
 "nbformat_minor": 5
}
